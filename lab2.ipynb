{
 "cells": [
  {
   "cell_type": "markdown",
   "metadata": {},
   "source": [
    "## *1. Perform a set of exercises*\n",
    "* *Excercise 2. Enter the number n. Arrange 1 and 0 in a checkerboard pattern starting with 0 in a matrix of size nхn, using slicing.*"
   ]
  },
  {
   "cell_type": "code",
   "execution_count": 5,
   "metadata": {
    "scrolled": true
   },
   "outputs": [
    {
     "name": "stdout",
     "output_type": "stream",
     "text": [
      " enter the number :5\n",
      "[[0 1 0 1 0]\n",
      " [1 0 1 0 1]\n",
      " [0 1 0 1 0]\n",
      " [1 0 1 0 1]\n",
      " [0 1 0 1 0]]\n"
     ]
    }
   ],
   "source": [
    "import numpy as np\n",
    "n =int(input(\" enter the number :\"))\n",
    "arr = np.zeros((n, n), dtype=int)\n",
    "arr[1::2, ::2] = 1\n",
    "arr[::2, 1::2] = 1\n",
    "print(arr)"
   ]
  },
  {
   "cell_type": "markdown",
   "metadata": {},
   "source": [
    "* *Excercise 5. Enter the number n. Output an array of size nхn, in which the rows with the even indices are equal to 1, and in others are equal to 0.*"
   ]
  },
  {
   "cell_type": "code",
   "execution_count": 6,
   "metadata": {},
   "outputs": [
    {
     "name": "stdout",
     "output_type": "stream",
     "text": [
      " enter5\n",
      "[[1 1 1 1 1]\n",
      " [0 0 0 0 0]\n",
      " [1 1 1 1 1]\n",
      " [0 0 0 0 0]\n",
      " [1 1 1 1 1]]\n"
     ]
    }
   ],
   "source": [
    "import numpy as np\n",
    "n =int(input(\" enter\"))\n",
    "arr = np.zeros((n, n), dtype=int)\n",
    "arr[::2, ::] = 1\n",
    "print(arr)"
   ]
  },
  {
   "cell_type": "markdown",
   "metadata": {},
   "source": [
    "* *Excercise 11. Create an array of 1 of size nхn and add to it a \"border\" formed from 0*"
   ]
  },
  {
   "cell_type": "code",
   "execution_count": 7,
   "metadata": {},
   "outputs": [
    {
     "name": "stdout",
     "output_type": "stream",
     "text": [
      " enter4\n",
      "[[0 0 0 0 0 0]\n",
      " [0 1 1 1 1 0]\n",
      " [0 1 1 1 1 0]\n",
      " [0 1 1 1 1 0]\n",
      " [0 1 1 1 1 0]\n",
      " [0 0 0 0 0 0]]\n"
     ]
    }
   ],
   "source": [
    "import numpy as np\n",
    "n =int(input(\" enter\"))\n",
    "arr = np.ones((n+2, n+2), dtype=int)\n",
    "arr[0] = 0\n",
    "arr[-1] = 0\n",
    "arr[:, 0] = 0\n",
    "arr[:, -1] = 0\n",
    "print(arr)\n",
    "arr[0]=0"
   ]
  },
  {
   "cell_type": "markdown",
   "metadata": {},
   "source": [
    "* *Excercise 12. Create an array of 1 of size nхn and create an inside \"border\" formed from 0.*"
   ]
  },
  {
   "cell_type": "code",
   "execution_count": 8,
   "metadata": {},
   "outputs": [
    {
     "name": "stdout",
     "output_type": "stream",
     "text": [
      " enter4\n",
      "[[0 0 0 0]\n",
      " [0 1 1 0]\n",
      " [0 1 1 0]\n",
      " [0 0 0 0]]\n"
     ]
    }
   ],
   "source": [
    "import numpy as np\n",
    "n =int(input(\" enter\"))\n",
    "arr = np.ones((n, n), dtype=int)\n",
    "arr[0] = 0\n",
    "arr[-1] = 0\n",
    "arr[:, 0] = 0\n",
    "arr[:, -1] = 0\n",
    "print(arr)\n",
    "arr[0]=0"
   ]
  },
  {
   "cell_type": "markdown",
   "metadata": {},
   "source": [
    "* Excercise 13. Determine the index of 70-th element in a vector, if it is converted into a matrix of size 4x5x6."
   ]
  },
  {
   "cell_type": "code",
   "execution_count": 9,
   "metadata": {},
   "outputs": [
    {
     "name": "stdout",
     "output_type": "stream",
     "text": [
      "In the matrix of 4х5х6 index 70 element (2, 1, 3)\n"
     ]
    }
   ],
   "source": [
    "n = 4\n",
    "m = 5\n",
    "k = 6\n",
    "h = 69\n",
    "x = (h // (m * k), (h % (m * k)) // k, (h % (m * k)) % k)\n",
    "\n",
    "print('In the matrix of {}х{}х{} index {} element {}'.format(n, m, k, h + 1, str(x)))"
   ]
  },
  {
   "cell_type": "markdown",
   "metadata": {},
   "source": [
    "* Excercise 14. Arrange 1 and 0 on the 8х8 field in a checkerboard pattern using the repeat function (*)."
   ]
  },
  {
   "cell_type": "code",
   "execution_count": 4,
   "metadata": {},
   "outputs": [
    {
     "name": "stdout",
     "output_type": "stream",
     "text": [
      "[[0 1 0 1 0 1 0 1]\n",
      " [1 0 1 0 1 0 1 0]\n",
      " [0 1 0 1 0 1 0 1]\n",
      " [1 0 1 0 1 0 1 0]\n",
      " [0 1 0 1 0 1 0 1]\n",
      " [1 0 1 0 1 0 1 0]\n",
      " [0 1 0 1 0 1 0 1]\n",
      " [1 0 1 0 1 0 1 0]]\n"
     ]
    }
   ],
   "source": [
    "import numpy as np\n",
    "arr = np.array([[0,1,0,1,0,1,0,1],\n",
    "               [1,0,1,0,1,0,1,0]]*4)\n",
    "print(arr)"
   ]
  },
  {
   "cell_type": "markdown",
   "metadata": {},
   "source": [
    "* Excercise 16. Fill the even columns of the matrix of nхn size with 1, and the odd ones with 0."
   ]
  },
  {
   "cell_type": "code",
   "execution_count": 10,
   "metadata": {},
   "outputs": [
    {
     "name": "stdout",
     "output_type": "stream",
     "text": [
      "5\n",
      "[[0 1 0 1 0]\n",
      " [0 1 0 1 0]\n",
      " [0 1 0 1 0]\n",
      " [0 1 0 1 0]\n",
      " [0 1 0 1 0]]\n"
     ]
    }
   ],
   "source": [
    "import numpy as np\n",
    "n = int(input())\n",
    "arr = np.zeros((n,n), dtype=int)\n",
    "arr[::,1::2]=1\n",
    "print(arr)"
   ]
  },
  {
   "cell_type": "markdown",
   "metadata": {},
   "source": [
    "* Excercise 17. Fill the vector with values from 0 to n. Replace all values greater than n/2 and less than 3n/4 with zeros."
   ]
  },
  {
   "cell_type": "code",
   "execution_count": 11,
   "metadata": {},
   "outputs": [
    {
     "name": "stdout",
     "output_type": "stream",
     "text": [
      "Enter a number : 10\n",
      "[ 0  1  2  0  0  0  0  0  8  9 10]\n"
     ]
    }
   ],
   "source": [
    "import numpy as np\n",
    "\n",
    "n = int(input(\"Enter a number : \"))\n",
    "x = np.arange(n+1)\n",
    "l, r = np.split(x, [n//4+1])\n",
    "r[r < 3*n/4] = 0\n",
    "print(x)\n"
   ]
  },
  {
   "cell_type": "markdown",
   "metadata": {},
   "source": [
    "* Excercise 20. Generate a vector of n elements that are evenly spaced on the interval (0,1) i.e. both ends of the interval are not included. Output values up to 3 decimal places."
   ]
  },
  {
   "cell_type": "code",
   "execution_count": 12,
   "metadata": {},
   "outputs": [
    {
     "name": "stdout",
     "output_type": "stream",
     "text": [
      "Enter a number :  10\n"
     ]
    },
    {
     "data": {
      "text/plain": [
       "array([0.091, 0.182, 0.273, 0.364, 0.455, 0.545, 0.636, 0.727, 0.818,\n",
       "       0.909])"
      ]
     },
     "execution_count": 12,
     "metadata": {},
     "output_type": "execute_result"
    }
   ],
   "source": [
    "import numpy as np\n",
    "n = int(input(\"Enter a number :  \"))\n",
    "np.around(np.linspace(0, 1, n+2, dtype=float),3)[1:-1:]"
   ]
  },
  {
   "cell_type": "markdown",
   "metadata": {},
   "source": [
    "## 2. Solve the system of linear equations using Cramer's formulas and perform a test using:\n",
    "#### a) matrix multiplication;\n",
    "#### b) numpy.linalg.solve()."
   ]
  },
  {
   "cell_type": "code",
   "execution_count": 13,
   "metadata": {},
   "outputs": [
    {
     "name": "stdout",
     "output_type": "stream",
     "text": [
      "[ 6.  7.  4. -8.]\n",
      "[ 1.125   1.9375 -1.125  -2.1875]\n",
      "X array:  [ 1.  2. -1. -2.]\n"
     ]
    }
   ],
   "source": [
    "import numpy as np\n",
    "\n",
    "coef_matrix = np.array([[1,2,3,-2],\n",
    "                       [1,-1,-2,-3],\n",
    "                       [3,2,-1,2],\n",
    "                       [2,-3,2,1]])\n",
    "det = np.linalg.det(coef_matrix)\n",
    "b_matrix= np.array([6,8,4,-8])\n",
    "coef_matrix_1 = coef_matrix.copy()\n",
    "coef_matrix_1[:, 0] =  b_matrix\n",
    "det_1 = np.linalg.det(coef_matrix_1)\n",
    "coef_matrix_1 = coef_matrix.copy()\n",
    "coef_matrix_1[:,1] = b_matrix\n",
    "det_2 = np.linalg.det(coef_matrix_1)\n",
    "coef_matrix_1 = coef_matrix.copy()\n",
    "coef_matrix_1[:,2] = b_matrix\n",
    "det_3 = np.linalg.det(coef_matrix_1)\n",
    "coef_matrix_1 = coef_matrix.copy()\n",
    "coef_matrix_1[:,3] = b_matrix\n",
    "det_4 = np.linalg.det(coef_matrix_1)\n",
    "x_matrix = np.array([round(det_1/det),round(det_2/det),round(det_3/det),round(det_4/det)])\n",
    "print(coef_matrix.dot(x_matrix))\n",
    "print(np.linalg.solve(coef_matrix, b_matrix))\n",
    "print(\"X array: \",x_matrix)"
   ]
  },
  {
   "cell_type": "markdown",
   "metadata": {},
   "source": [
    " ## 3. Calculate the value of the matrix expression."
   ]
  },
  {
   "cell_type": "code",
   "execution_count": 14,
   "metadata": {},
   "outputs": [
    {
     "name": "stdout",
     "output_type": "stream",
     "text": [
      "[[ 8  7 -4]\n",
      " [ 6  1 18]\n",
      " [38 88 11]]\n"
     ]
    }
   ],
   "source": [
    "import numpy as np\n",
    "\n",
    "A = np.array([[4,5,-2],[3,-1,0],[4,2,7]], dtype=int)\n",
    "B = np.array([[2,1,-1],[0,1,3],[5,7,3]], dtype=int)\n",
    "\n",
    "print(2*A-(A-2*B)*B)"
   ]
  },
  {
   "cell_type": "markdown",
   "metadata": {},
   "source": [
    "## 4. Solve the matrix equation using an inverse matrix and perform a test using:\n",
    "#### a) matrix multiplication;\n",
    "#### b) numpy.linalg.solve()."
   ]
  },
  {
   "cell_type": "code",
   "execution_count": 15,
   "metadata": {},
   "outputs": [
    {
     "name": "stdout",
     "output_type": "stream",
     "text": [
      "[[ 1.00000000e+00  2.00000000e+00  3.00000000e+00]\n",
      " [-2.22044605e-16  1.00000000e+00  2.00000000e+00]\n",
      " [ 0.00000000e+00  0.00000000e+00  1.00000000e+00]]\n"
     ]
    }
   ],
   "source": [
    "import numpy as np\n",
    "a = np.array([[2, 3, 1],\n",
    "              [-1, 2, 4],\n",
    "              [5, 3, 0]])\n",
    "b = np.array([[2, 7, 13],\n",
    "              [-1, 0, 5],\n",
    "              [5, 13, 21]])\n",
    "x = np.linalg.inv(a)@ b\n",
    "print(x)\n"
   ]
  },
  {
   "cell_type": "code",
   "execution_count": null,
   "metadata": {},
   "outputs": [],
   "source": []
  }
 ],
 "metadata": {
  "kernelspec": {
   "display_name": "Python 3",
   "language": "python",
   "name": "python3"
  },
  "language_info": {
   "codemirror_mode": {
    "name": "ipython",
    "version": 3
   },
   "file_extension": ".py",
   "mimetype": "text/x-python",
   "name": "python",
   "nbconvert_exporter": "python",
   "pygments_lexer": "ipython3",
   "version": "3.8.5"
  }
 },
 "nbformat": 4,
 "nbformat_minor": 4
}
